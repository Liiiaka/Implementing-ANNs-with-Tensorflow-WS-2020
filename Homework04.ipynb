{
 "cells": [
  {
   "cell_type": "markdown",
   "metadata": {
    "id": "yRQM10HBAwe8"
   },
   "source": [
    "# Homework 04"
   ]
  },
  {
   "cell_type": "code",
   "execution_count": 5,
   "metadata": {
    "id": "fPuCInHwA5RZ"
   },
   "outputs": [],
   "source": [
    "import numpy as np\n",
    "import tensorflow as tf\n",
    "import matplotlib.pyplot as plt\n",
    "import tensorflow_datasets as tfds\n",
    "from tensorflow.keras import activations\n",
    "import datetime"
   ]
  },
  {
   "cell_type": "markdown",
   "metadata": {
    "id": "K0WrL8vcBJSw"
   },
   "source": [
    "## 1. Dataset"
   ]
  },
  {
   "cell_type": "code",
   "execution_count": 6,
   "metadata": {
    "id": "JBdWrjnjBIty"
   },
   "outputs": [],
   "source": [
    "def convertData(data):\n",
    "    # splits the dataset in images and labels\n",
    "    images = [point[0] for point in data]\n",
    "    labels = [point[1] for point in data]\n",
    "\n",
    "    # resize all images so they are of equal shape, then casts map object back to list\n",
    "    images = map(lambda img : tf.image.resize(img, [140, 140], antialias=False), images)\n",
    "    images = list(images)\n",
    "\n",
    "    # turns labels list into dataset in order to one hot encode its elements\n",
    "    labels = tf.data.Dataset.from_tensor_slices(labels)\n",
    "    labels = labels.map(lambda lab : tf.one_hot(lab, 2))\n",
    "    \n",
    "    # turns images list into dataset in order to zip images and labels back together\n",
    "    images = tf.data.Dataset.from_tensor_slices(images)\n",
    "\n",
    "    # zips images and labels back together, shuffles the dataset, takes batches of size 64 and prefeteches\n",
    "    dataset = tf.data.Dataset.zip((images, labels))\n",
    "    dataset = dataset.shuffle(buffer_size=64)\n",
    "    dataset = dataset.batch(64)\n",
    "    dataset = dataset.prefetch(tf.data.experimental.AUTOTUNE)\n",
    "    \n",
    "    return dataset"
   ]
  },
  {
   "cell_type": "code",
   "execution_count": 7,
   "metadata": {
    "id": "_cW70ChOCNeT"
   },
   "outputs": [],
   "source": [
    "# load train and test datasets, using first 80% of data for training and last 20% for testing\n",
    "train_data = tfds.load(name = 'malaria', split = 'train[:80%]', try_gcs = True, as_supervised = True)\n",
    "test_data = tfds.load(name='malaria', split = 'train[20%:]', try_gcs= True, as_supervised=True)\n",
    "\n",
    "# preprocess training and test data through input pipeline\n",
    "train_dataset_final = convertData(train_data)\n",
    "test_dataset_final = convertData(test_data)"
   ]
  },
  {
   "cell_type": "markdown",
   "metadata": {
    "id": "Jpxc_CHFBa-C"
   },
   "source": [
    "## 2. Model"
   ]
  },
  {
   "cell_type": "code",
   "execution_count": 8,
   "metadata": {
    "id": "TZLNmqFIBqMJ"
   },
   "outputs": [],
   "source": [
    "from tensorflow.keras.layers import Layer\n",
    "\n",
    "class Model(Layer):\n",
    "    def __init__(self):\n",
    "        super(Model, self).__init__()\n",
    "        \n",
    "        # rescales the pixel value by dividing them by 255\n",
    "        self.preproc = tf.keras.layers.experimental.preprocessing.Rescaling(1./255, input_shape=(140, 140, 3))\n",
    "        \n",
    "        # implements 3 conv. layers with doubling number of filters (32, 64, 128) and constant kernel size (3,3)\n",
    "        self.conv_layer_1 = tf.keras.layers.Conv2D(filters=32, kernel_size=(3,3), strides=(1,1), padding='same', activation=activations.relu)\n",
    "        # each conv. layer is followed by a pooling layer with default parameters\n",
    "        self.pool_layer_1 = tf.keras.layers.MaxPooling2D()\n",
    "        self.conv_layer_2 = tf.keras.layers.Conv2D(filters=64, kernel_size=(3,3), strides=(1,1), padding='same', activation=activations.relu)\n",
    "        self.pool_layer_2 = tf.keras.layers.MaxPooling2D()\n",
    "        self.conv_layer_3 = tf.keras.layers.Conv2D(filters=128, kernel_size=(3,3), strides=(1,1), padding='same', activation=activations.relu)\n",
    "        self.pool_layer_3 = tf.keras.layers.MaxPooling2D()\n",
    "        \n",
    "        # flattens output from last pooling layer in order to use it in dense layers\n",
    "        self.flatten = tf.keras.layers.Flatten()\n",
    "        \n",
    "        # implements two hidden layer, seperated by a dropout layer (to reduce overfitting)\n",
    "        self.hidden1 = tf.keras.layers.Dense(units=512, activation=tf.keras.activations.relu)\n",
    "        self.drop1 = tf.keras.layers.Dropout(rate=0.3)\n",
    "        self.hidden2 = tf.keras.layers.Dense(units=512, activation=tf.keras.activations.relu)\n",
    "       \n",
    "        # output layer has 2 neurons (infecteed or not infected)\n",
    "        self.output_layer = tf.keras.layers.Dense(units=2,activation=tf.keras.activations.softmax)\n",
    "  \n",
    "    def call(self, x):\n",
    "        # defines the forward step\n",
    "        x = self.preproc(x)\n",
    "        x = self.conv_layer_1(x)\n",
    "        x = self.pool_layer_1(x)\n",
    "        x = self.conv_layer_2(x)\n",
    "        x = self.pool_layer_2(x)\n",
    "        x = self.conv_layer_3(x)\n",
    "        x = self.pool_layer_3(x)\n",
    "        x = self.flatten(x)\n",
    "        x = self.hidden1(x)\n",
    "        x = self.drop1(x)\n",
    "        x = self.hidden2(x)\n",
    "        x = self.output_layer(x)\n",
    "        return x"
   ]
  },
  {
   "cell_type": "markdown",
   "metadata": {
    "id": "uk-crTleBqr_"
   },
   "source": [
    "## 3. Training"
   ]
  },
  {
   "cell_type": "code",
   "execution_count": 9,
   "metadata": {
    "id": "VCiLTBYyBtop"
   },
   "outputs": [],
   "source": [
    "def train_step(model, input, target, loss_function, optimizer):\n",
    "  # loss_object and optimizer_object are instances of respective tensorflow classes\n",
    "  with tf.GradientTape() as tape:\n",
    "    prediction = model(input)\n",
    "    loss = loss_function(target, prediction)\n",
    "    gradients = tape.gradient(loss, model.trainable_variables)\n",
    "  optimizer.apply_gradients(zip(gradients, model.trainable_variables))\n",
    "  return loss \n",
    "\n",
    "def test(model, test_data, loss_function):\n",
    "  # test over complete test data\n",
    "\n",
    "  test_accuracy_aggregator = []\n",
    "  test_loss_aggregator = []\n",
    "\n",
    "  for (input, target) in test_data:\n",
    "    prediction = model(input)\n",
    "    sample_test_loss = loss_function(target, prediction)\n",
    "    sample_test_accuracy =  np.argmax(target, axis=1) == np.argmax(prediction, axis=1)\n",
    "    sample_test_accuracy = np.mean(sample_test_accuracy)\n",
    "    test_loss_aggregator.append(sample_test_loss.numpy())\n",
    "    test_accuracy_aggregator.append(np.mean(sample_test_accuracy))\n",
    "\n",
    "  test_loss = np.mean(test_loss_aggregator)\n",
    "  test_accuracy = np.mean(test_accuracy_aggregator)\n",
    "\n",
    "  return test_loss, test_accuracy"
   ]
  },
  {
   "cell_type": "code",
   "execution_count": 10,
   "metadata": {},
   "outputs": [],
   "source": [
    "def calculateTime(epochs, time_passed, number_of_epochs):\n",
    "    epochs = epochs + 1\n",
    "    time_per_epoch = time_passed / epochs\n",
    "    number = number_of_epochs - epochs\n",
    "    time_sec = number * time_per_epoch\n",
    "    time_remain = str(datetime.timedelta(seconds=time_sec))\n",
    "    return time_remain"
   ]
  },
  {
   "cell_type": "code",
   "execution_count": 11,
   "metadata": {
    "colab": {
     "base_uri": "https://localhost:8080/"
    },
    "id": "qycYvmDCTW6k",
    "outputId": "f999f4fa-b0d2-479b-b3c0-0d8840480eae"
   },
   "outputs": [
    {
     "name": "stdout",
     "output_type": "stream",
     "text": [
      "Epoch: __ 0\n",
      "Time until training is finished:  2:49:03.215309\n",
      "Epoch: __ 1\n",
      "Time until training is finished:  2:42:01.322774\n",
      "Epoch: __ 2\n",
      "Time until training is finished:  2:33:38.935570\n",
      "Epoch: __ 3\n",
      "Time until training is finished:  2:25:44.242885\n",
      "Epoch: __ 4\n",
      "Time until training is finished:  2:18:19.426075\n",
      "Epoch: __ 5\n",
      "Time until training is finished:  2:10:52.790613\n",
      "Epoch: __ 6\n",
      "Time until training is finished:  2:03:34.131364\n",
      "Epoch: __ 7\n",
      "Time until training is finished:  1:56:30.356538\n",
      "Epoch: __ 8\n",
      "Time until training is finished:  1:49:25.884112\n",
      "Epoch: __ 9\n",
      "Time until training is finished:  1:42:25.056294\n",
      "Epoch: __ 10\n",
      "Time until training is finished:  1:35:28.823760\n",
      "Epoch: __ 11\n",
      "Time until training is finished:  1:28:35.003805\n",
      "Epoch: __ 12\n",
      "Time until training is finished:  1:21:41.314017\n",
      "Epoch: __ 13\n",
      "Time until training is finished:  1:14:48.145665\n",
      "Epoch: __ 14\n",
      "Time until training is finished:  1:07:56.369243\n",
      "Epoch: __ 15\n",
      "Time until training is finished:  1:01:05.741939\n",
      "Epoch: __ 16\n",
      "Time until training is finished:  0:54:15.963075\n",
      "Epoch: __ 17\n",
      "Time until training is finished:  0:47:27.135385\n",
      "Epoch: __ 18\n",
      "Time until training is finished:  0:40:39.110575\n",
      "Epoch: __ 19\n",
      "Time until training is finished:  0:33:51.571978\n",
      "Epoch: __ 20\n",
      "Time until training is finished:  0:27:04.538775\n",
      "Epoch: __ 21\n",
      "Time until training is finished:  0:20:17.889394\n",
      "Epoch: __ 22\n",
      "Time until training is finished:  0:13:31.583233\n",
      "Epoch: __ 23\n",
      "Time until training is finished:  0:06:45.633075\n",
      "Epoch: __ 24\n",
      "Time until training is finished:  0:00:00\n"
     ]
    }
   ],
   "source": [
    "tf.keras.backend.clear_session()\n",
    "import time\n",
    "\n",
    "### Hyperparameters\n",
    "num_epochs = 25\n",
    "learning_rate = 0.00001\n",
    "running_average_factor = 0.95\n",
    "\n",
    "# Initialize the model.\n",
    "model = Model()\n",
    "# Initialize the loss: binary cross entropy\n",
    "cross_entropy_loss = tf.keras.losses.BinaryCrossentropy()\n",
    "# Initialize the optimizer: Adam with default parameters, using set learning rate\n",
    "optimizer = tf.keras.optimizers.Adam(learning_rate)\n",
    "\n",
    "# Initialize lists for later visualization.\n",
    "train_losses = []\n",
    "\n",
    "test_losses = []\n",
    "test_accuracies = []\n",
    "\n",
    "#testing once before we begin\n",
    "\n",
    "test_loss, test_accuracy = test(model, test_dataset_final, cross_entropy_loss)\n",
    "test_losses.append(test_loss)\n",
    "test_accuracies.append(test_accuracy)\n",
    "\n",
    "#check how model performs on train data once before we begin\n",
    "train_loss, _ = test(model, train_dataset_final, cross_entropy_loss)\n",
    "train_losses.append(train_loss)\n",
    "\n",
    "start = time.time()\n",
    "\n",
    "# We train for num_epochs epochs.\n",
    "for epoch in range(num_epochs):\n",
    "    epoch_start = time.time()\n",
    "    print('Epoch: __ ' + str(epoch))\n",
    "\n",
    "    #training (and checking in with training)\n",
    "    running_average = 0\n",
    "    for (input,target) in train_dataset_final:\n",
    "        train_loss = train_step(model, input, target, cross_entropy_loss, optimizer)\n",
    "        running_average = running_average_factor * running_average  + (1 - running_average_factor) * train_loss\n",
    "    train_losses.append(running_average)\n",
    "\n",
    "    #testing\n",
    "    test_loss, test_accuracy = test(model, test_dataset_final, cross_entropy_loss)\n",
    "    test_losses.append(test_loss)\n",
    "    test_accuracies.append(test_accuracy)\n",
    "    print(\"Time until training is finished: \", calculateTime(epoch, time.time()-start, num_epochs))\n",
    "  "
   ]
  },
  {
   "cell_type": "markdown",
   "metadata": {
    "id": "UcNC4jDGYxGI"
   },
   "source": [
    "## 4. Visualization"
   ]
  },
  {
   "cell_type": "code",
   "execution_count": 12,
   "metadata": {
    "colab": {
     "base_uri": "https://localhost:8080/",
     "height": 541
    },
    "id": "bUDpxMSlY5O1",
    "outputId": "9b1cbea8-8ca4-4632-c941-2ab5d0b19b2a"
   },
   "outputs": [
    {
     "data": {
      "image/png": "[encoded data removed]",
      "text/plain": [
       "<Figure size 432x288 with 1 Axes>"
      ]
     },
     "metadata": {
      "needs_background": "light"
     },
     "output_type": "display_data"
    },
    {
     "data": {
      "image/png": "[encoded data removed]",
      "text/plain": [
       "<Figure size 432x288 with 1 Axes>"
      ]
     },
     "metadata": {
      "needs_background": "light"
     },
     "output_type": "display_data"
    },
    {
     "name": "stdout",
     "output_type": "stream",
     "text": [
      "Highest accuracy:  0.9581068840579711\n"
     ]
    }
   ],
   "source": [
    "# Visualize accuracy and loss for training and test data. \n",
    "# Plot training and test loss.\n",
    "plt.figure()\n",
    "line1, = plt.plot(train_losses)\n",
    "line2, = plt.plot(test_losses)\n",
    "plt.xlabel(\"Training steps\")\n",
    "plt.ylabel(\"Loss\")\n",
    "plt.legend((line1,line2),(\"training\",\"test\"))\n",
    "plt.show()\n",
    "\n",
    "# Plot test accuracy\n",
    "plt.figure()\n",
    "line1, = plt.plot(test_accuracies)\n",
    "plt.xlabel(\"Training steps\")\n",
    "plt.yticks(np.arange(0.4, 1.05, 0.05))\n",
    "plt.ylabel(\"Accuracy\")\n",
    "plt.show()\n",
    "print(\"Highest accuracy: \", max(test_accuracies))"
   ]
  }
 ],
 "metadata": {
  "colab": {
   "collapsed_sections": [],
   "name": "Homework04.ipynb",
   "provenance": []
  },
  "kernelspec": {
   "display_name": "Python 3",
   "language": "python",
   "name": "python3"
  },
  "language_info": {
   "codemirror_mode": {
    "name": "ipython",
    "version": 3
   },
   "file_extension": ".py",
   "mimetype": "text/x-python",
   "name": "python",
   "nbconvert_exporter": "python",
   "pygments_lexer": "ipython3",
   "version": "3.8.3"
  }
 },
 "nbformat": 4,
 "nbformat_minor": 4
}
