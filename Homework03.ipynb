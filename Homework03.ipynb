{
  "nbformat": 4,
  "nbformat_minor": 0,
  "metadata": {
    "accelerator": "GPU",
    "colab": {
      "name": "Homework03.ipynb",
      "provenance": [],
      "collapsed_sections": []
    },
    "kernelspec": {
      "display_name": "iannwtf",
      "language": "python",
      "name": "iannwtf"
    },
    "language_info": {
      "codemirror_mode": {
        "name": "ipython",
        "version": 3
      },
      "file_extension": ".py",
      "mimetype": "text/x-python",
      "name": "python",
      "nbconvert_exporter": "python",
      "pygments_lexer": "ipython3",
      "version": "3.7.9"
    }
  },
  "cells": [
    {
      "cell_type": "markdown",
      "metadata": {
        "id": "Eryhd7cZcCDJ"
      },
      "source": [
        "# Homework 03"
      ]
    },
    {
      "cell_type": "code",
      "metadata": {
        "id": "oTBgw7G9cCDS"
      },
      "source": [
        "# load packages\n",
        "import numpy as np\n",
        "import tensorflow as tf\n",
        "import matplotlib.pyplot as plt\n",
        "import tensorflow_datasets as tfds"
      ],
      "execution_count": null,
      "outputs": []
    },
    {
      "cell_type": "markdown",
      "metadata": {
        "id": "vuDesbkmcCDX"
      },
      "source": [
        "## 1 Data Set"
      ]
    },
    {
      "cell_type": "code",
      "metadata": {
        "id": "lofS9ACP1lmt"
      },
      "source": [
        "def onehotify(tensor):\n",
        "  vocab = {'A':'1','G':'3','C':'2','T':'0'}\n",
        "  for key in vocab.keys():\n",
        "    tensor = tf.strings.regex_replace(tensor, key, vocab[key])\n",
        "    split = tf.strings.bytes_split(tensor)\n",
        "    labels = tf.cast(tf.strings.to_number(split), tf.uint8)\n",
        "    onehot = tf.one_hot(labels, 4)\n",
        "    onehot = tf.reshape(onehot, (-1,))\n",
        "  return onehot"
      ],
      "execution_count": null,
      "outputs": []
    },
    {
      "cell_type": "code",
      "metadata": {
        "id": "JhBBCGLGWn7N"
      },
      "source": [
        "def convertData(data):\n",
        "  # Splitting the dataset into sequence data and labels seperatly\n",
        "  data_tensor = [point[0] for point in data]\n",
        "  label_tensor = [point[1] for point in data]\n",
        "  \n",
        "  # Turning tensors into dataset so mapping can be applied\n",
        "  dataset_seq = tf.data.Dataset.from_tensor_slices(data_tensor)\n",
        "  dataset_label = tf.data.Dataset.from_tensor_slices(label_tensor)\n",
        "\n",
        "  # mapping each element in the dataset to the value defined by the lambda function\n",
        "  # onehot encoding each nucleotide in each genomic sequence of the dataset\n",
        "  dataset_seq = dataset_seq.map(lambda seq : onehotify(seq))\n",
        "  # onehot encoding the labels\n",
        "  dataset_label = dataset_label.map(lambda lab : tf.one_hot(lab, 10))\n",
        "\n",
        "  # zip together input and labels\n",
        "  dataset_final = tf.data.Dataset.zip((dataset_seq, dataset_label))\n",
        "\n",
        "  # setting buffer_size, batch_size and prefetch for the input pipeline\n",
        "  dataset_final = dataset_final.shuffle(buffer_size=128)\n",
        "  dataset_final = dataset_final.batch(128)\n",
        "  dataset_final = dataset_final.prefetch(tf.data.experimental.AUTOTUNE)\n",
        "  return dataset_final"
      ],
      "execution_count": null,
      "outputs": []
    },
    {
      "cell_type": "code",
      "metadata": {
        "id": "PsHvJzdZcCDY"
      },
      "source": [
        "# load train and test datasets\n",
        "train_data = tfds.load(name = 'genomics_ood', split = 'train[:10%]', try_gcs = True, as_supervised = True)\n",
        "test_data = tfds.load(name='genomics_ood', split = 'test[:10%]', try_gcs= True, as_supervised=True)\n",
        "\n",
        "# send datasets through input pipeline\n",
        "test_dataset_final = convertData(train_data)\n",
        "train_dataset_final = convertData(test_data)"
      ],
      "execution_count": null,
      "outputs": []
    },
    {
      "cell_type": "markdown",
      "metadata": {
        "id": "eRxcKbYGcCDd"
      },
      "source": [
        "## 2 Model"
      ]
    },
    {
      "cell_type": "code",
      "metadata": {
        "id": "QGBaOw_KcCDd"
      },
      "source": [
        "from tensorflow.keras.layers import Layer\n",
        "\n",
        "class Model(Layer):\n",
        "\n",
        "  def __init__(self):\n",
        "    super(Model, self).__init__()\n",
        "    # Hidden Layer 1: 256 units.  With sigmoid activation function.\n",
        "    self.hidden_layer_1 = tf.keras.layers.Dense(units=256,\n",
        "                                            activation=tf.keras.activations.sigmoid\n",
        "                                            )\n",
        "    # Hidden layer 2:  256 units.  With sigmoid activation function.\n",
        "    self.hidden_layer_2 = tf.keras.layers.Dense(units=256,\n",
        "                                            activation=tf.keras.activations.sigmoid\n",
        "                                            )\n",
        "    #Output:  10 units.  With softmax activation function.\n",
        "    self.output_layer = tf.keras.layers.Dense(units=10,\n",
        "                                            activation=tf.keras.activations.softmax\n",
        "                                            )\n",
        "        \n",
        "  def call(self, x):\n",
        "  # Define the forward step.\n",
        "    x = self.hidden_layer_1(x)\n",
        "    x = self.hidden_layer_2(x)\n",
        "    x = self.output_layer(x)\n",
        "    return x"
      ],
      "execution_count": null,
      "outputs": []
    },
    {
      "cell_type": "markdown",
      "metadata": {
        "id": "qYNfaTZicCDg"
      },
      "source": [
        "\n",
        "## 3 Training"
      ]
    },
    {
      "cell_type": "code",
      "metadata": {
        "id": "vkDTDo3ecCDh"
      },
      "source": [
        "def train_step(model, input, target, loss_function, optimizer):\n",
        "  # loss_object and optimizer_object are instances of respective tensorflow classes\n",
        "  with tf.GradientTape() as tape:\n",
        "    prediction = model(input)\n",
        "    loss = loss_function(target, prediction)\n",
        "    gradients = tape.gradient(loss, model.trainable_variables)\n",
        "  optimizer.apply_gradients(zip(gradients, model.trainable_variables))\n",
        "  return loss \n",
        "\n",
        "def test(model, test_data, loss_function):\n",
        "  # test over complete test data\n",
        "\n",
        "  test_accuracy_aggregator = []\n",
        "  test_loss_aggregator = []\n",
        "\n",
        "  for (input, target) in test_data:\n",
        "    prediction = model(input)\n",
        "    sample_test_loss = loss_function(target, prediction)\n",
        "    sample_test_accuracy =  np.argmax(target, axis=1) == np.argmax(prediction, axis=1)\n",
        "    sample_test_accuracy = np.mean(sample_test_accuracy)\n",
        "    test_loss_aggregator.append(sample_test_loss.numpy())\n",
        "    test_accuracy_aggregator.append(np.mean(sample_test_accuracy))\n",
        "\n",
        "  test_loss = np.mean(test_loss_aggregator)\n",
        "  test_accuracy = np.mean(test_accuracy_aggregator)\n",
        "\n",
        "  return test_loss, test_accuracy"
      ],
      "execution_count": null,
      "outputs": []
    },
    {
      "cell_type": "code",
      "metadata": {
        "id": "oAQIZf5cFnc0",
        "colab": {
          "base_uri": "https://localhost:8080/"
        },
        "outputId": "26870f1e-c5e8-49f5-8642-baf355ae1ae8"
      },
      "source": [
        "tf.keras.backend.clear_session()\n",
        "import time\n",
        "\n",
        "### Hyperparameters\n",
        "num_epochs = 10\n",
        "learning_rate = 0.1\n",
        "running_average_factor = 0.95\n",
        "\n",
        "# Initialize the model.\n",
        "model = Model()\n",
        "# Initialize the loss: categorical cross entropy. Check out 'tf.keras.losses'.\n",
        "cross_entropy_loss = tf.keras.losses.CategoricalCrossentropy()\n",
        "# Initialize the optimizer: Adam with default parameters. Check out 'tf.keras.optimizers'\n",
        "optimizer = tf.keras.optimizers.SGD(learning_rate)\n",
        "\n",
        "# Initialize lists for later visualization.\n",
        "train_losses = []\n",
        "\n",
        "test_losses = []\n",
        "test_accuracies = []\n",
        "\n",
        "#testing once before we begin\n",
        "\n",
        "test_loss, test_accuracy = test(model, test_dataset_final, cross_entropy_loss)\n",
        "test_losses.append(test_loss)\n",
        "test_accuracies.append(test_accuracy)\n",
        "\n",
        "#check how model performs on train data once before we begin\n",
        "train_loss, _ = test(model, train_dataset_final, cross_entropy_loss)\n",
        "train_losses.append(train_loss)\n",
        "\n",
        "start = time.time()\n",
        "\n",
        "# We train for num_epochs epochs.\n",
        "for epoch in range(num_epochs):\n",
        "    print('Epoch: __ ' + str(epoch))\n",
        "\n",
        "    train_dataset_final = train_dataset_final.shuffle(buffer_size=128)\n",
        "    test_dataset_final = test_dataset_final.shuffle(buffer_size=128)\n",
        "\n",
        "    #training (and checking in with training)\n",
        "    running_average = 0\n",
        "    for (input,target) in train_dataset_final:\n",
        "        train_loss = train_step(model, input, target, cross_entropy_loss, optimizer)\n",
        "        running_average = running_average_factor * running_average  + (1 - running_average_factor) * train_loss\n",
        "    train_losses.append(running_average)\n",
        "\n",
        "    #testing\n",
        "    test_loss, test_accuracy = test(model, test_dataset_final, cross_entropy_loss)\n",
        "    test_losses.append(test_loss)\n",
        "    test_accuracies.append(test_accuracy)\n",
        "  \n",
        "print(\"Time: \", time.time()- start)"
      ],
      "execution_count": null,
      "outputs": [
        {
          "output_type": "stream",
          "text": [
            "Epoch: __ 0\n",
            "Epoch: __ 1\n",
            "Epoch: __ 2\n",
            "Epoch: __ 3\n",
            "Epoch: __ 4\n",
            "Epoch: __ 5\n",
            "Epoch: __ 6\n",
            "Epoch: __ 7\n",
            "Epoch: __ 8\n",
            "Epoch: __ 9\n",
            "Time:  255.76212096214294\n"
          ],
          "name": "stdout"
        }
      ]
    },
    {
      "cell_type": "code",
      "metadata": {
        "id": "2eb4MsvT28Dp",
        "colab": {
          "base_uri": "https://localhost:8080/"
        },
        "outputId": "40f33b60-f79b-4b1e-c501-c421542a8d3d"
      },
      "source": [
        "# Please ignore this function. It was created to benchmark the performance improvements of using prefetch\n",
        "def benchmark(dataset, num_epochs=20):\n",
        "    start_time = time.perf_counter()\n",
        "    for epoch_num in range(num_epochs):\n",
        "        for sample in dataset:\n",
        "            # Performing a training step\n",
        "            time.sleep(0.01)\n",
        "    tf.print(\"Execution time:\", time.perf_counter() - start_time)\n",
        "\n",
        "\n",
        "benchmark(\n",
        "    train_dataset_final.prefetch(tf.data.experimental.AUTOTUNE)\n",
        ")\n",
        "benchmark(\n",
        "    train_dataset_final\n",
        ")"
      ],
      "execution_count": null,
      "outputs": [
        {
          "output_type": "stream",
          "text": [
            "Execution time: 60.666304115\n",
            "Execution time: 61.04840030400004\n"
          ],
          "name": "stdout"
        }
      ]
    },
    {
      "cell_type": "markdown",
      "metadata": {
        "id": "gb7HcVBJcCDk"
      },
      "source": [
        "## 4 Visualization"
      ]
    },
    {
      "cell_type": "code",
      "metadata": {
        "id": "KaoqRffrWwiU",
        "colab": {
          "base_uri": "https://localhost:8080/"
        },
        "outputId": "7dc1d455-a51c-47ba-e35f-e23d3f692fea"
      },
      "source": [
        "# Visualize accuracy and loss for training and test data. \n",
        "# Plot training and test loss.\n",
        "plt.figure()\n",
        "line1, = plt.plot(train_losses)\n",
        "line2, = plt.plot(test_losses)\n",
        "plt.xlabel(\"Training steps\")\n",
        "plt.ylabel(\"Loss\")\n",
        "plt.legend((line1,line2),(\"training\",\"test\"))\n",
        "plt.show()\n",
        "\n",
        "# Plot test accuracy\n",
        "plt.figure()\n",
        "line1, = plt.plot(test_accuracies)\n",
        "plt.xlabel(\"Training steps\")\n",
        "plt.ylabel(\"Accuracy\")\n",
        "plt.show()"
      ],
      "execution_count": null,
      "outputs": [
        {
          "output_type": "display_data",
          "data": {
            "image/png": "[encoded data removed]",
            "text/plain": [
              "<Figure size 432x288 with 1 Axes>"
            ]
          },
          "metadata": {
            "tags": [],
            "needs_background": "light"
          }
        },
        {
          "output_type": "display_data",
          "data": {
            "image/png": "[encoded data removed]",
            "text/plain": [
              "<Figure size 432x288 with 1 Axes>"
            ]
          },
          "metadata": {
            "tags": [],
            "needs_background": "light"
          }
        }
      ]
    }
  ]
}