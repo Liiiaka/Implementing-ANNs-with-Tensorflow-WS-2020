{
  "nbformat": 4,
  "nbformat_minor": 0,
  "metadata": {
    "colab": {
      "name": "Homework_9_WIP.ipynb",
      "provenance": [],
      "collapsed_sections": []
    },
    "kernelspec": {
      "display_name": "Python 3",
      "name": "python3"
    },
    "accelerator": "GPU"
  },
  "cells": [
    {
      "cell_type": "code",
      "metadata": {
        "id": "85iGYbsgeRVv"
      },
      "source": [
        "import tensorflow as tf\r\n",
        "import matplotlib.pyplot as plt\r\n",
        "import matplotlib as mpl\r\n",
        "from scipy import signal\r\n",
        "import numpy as np\r\n",
        "import time\r\n",
        "import datetime\r\n",
        "from IPython.display import clear_output"
      ],
      "execution_count": 12,
      "outputs": []
    },
    {
      "cell_type": "markdown",
      "metadata": {
        "id": "53iMVzwhfblJ"
      },
      "source": [
        "#Data Pipeline"
      ]
    },
    {
      "cell_type": "markdown",
      "metadata": {
        "id": "AAId6wFC5ucF"
      },
      "source": [
        "## Generator:\r\n",
        "##### The create_sample() and create_dataset()-methods generate our datasets\r\n",
        "##### The create_sample() creates one sequence of numbers and two query_digits\r\n",
        "##### The create_dataset() puts together a dataset containing multiple different sequences of numbers"
      ]
    },
    {
      "cell_type": "code",
      "metadata": {
        "id": "eypUOtXhYg1R"
      },
      "source": [
        "def create_samples(len):\r\n",
        "  for i in range(len):\r\n",
        "    query_digit_1 = np.random.randint(9)\r\n",
        "    query_digit_2 = np.random.randint(9)\r\n",
        "    while(query_digit_1 == query_digit_2):\r\n",
        "      query_digit_2 = np.random.randint(9)\r\n",
        "    sequence = []\r\n",
        "    for i in range(23):\r\n",
        "      sequence.append(np.random.randint(9))\r\n",
        "    if (sequence.count(query_digit_1) == sequence.count(query_digit_2)):\r\n",
        "      target  = 0\r\n",
        "    elif (sequence.count(query_digit_1) > sequence.count(query_digit_2)):\r\n",
        "      target = 0\r\n",
        "    else:\r\n",
        "      target = 1\r\n",
        "    target = tf.one_hot(target, 3)\r\n",
        "    sequence = tf.convert_to_tensor(sequence)\r\n",
        "    context = tf.convert_to_tensor([query_digit_1, query_digit_2])\r\n",
        "    \r\n",
        "    yield sequence, context, target"
      ],
      "execution_count": 13,
      "outputs": []
    },
    {
      "cell_type": "code",
      "metadata": {
        "id": "6wzDu3ueAHJT"
      },
      "source": [
        "def create_dataset(size, timesteps):\r\n",
        "  generator = create_samples(size)\r\n",
        "  inputs = []\r\n",
        "  labels = []\r\n",
        "  for i in range(size):\r\n",
        "    sequence, context, label = next(generator)\r\n",
        "    sequence = tf.one_hot(sequence, 10)\r\n",
        "    context = tf.one_hot(context, 10)\r\n",
        "    labels.append(label)\r\n",
        "    helper = []\r\n",
        "    for j in range(timesteps):\r\n",
        "      helper.append(tf.concat((context, tf.expand_dims(sequence[j], axis = 0)), axis = 0))\r\n",
        "    inputs.append(helper)\r\n",
        "\r\n",
        "  input_dataset = tf.data.Dataset.from_tensor_slices(inputs)\r\n",
        "  labels_dataset = tf.data.Dataset.from_tensor_slices(labels)\r\n",
        "  dataset = tf.data.Dataset.zip((input_dataset, labels_dataset))\r\n",
        "  dataset = dataset.batch(32).prefetch(32)  \r\n",
        "  return dataset"
      ],
      "execution_count": 14,
      "outputs": []
    },
    {
      "cell_type": "code",
      "metadata": {
        "id": "Kkb7wgkQTrFy"
      },
      "source": [
        "train_dataset = create_dataset(2048, 23)\r\n",
        "test_dataset = create_dataset(320, 23)"
      ],
      "execution_count": 15,
      "outputs": []
    },
    {
      "cell_type": "markdown",
      "metadata": {
        "id": "BxQ5lVjGegn8"
      },
      "source": [
        "#LSTM-Model"
      ]
    },
    {
      "cell_type": "markdown",
      "metadata": {
        "id": "gX2daAT4CtOr"
      },
      "source": [
        "##### The LSTMCell-Class contains the inputgate, forgetgate, outputgate and a candidates-dense-layer\r\n",
        "##### The call-function first concats the hidden_state and the input\r\n",
        "##### After that the first part of the new cell_state is calculated\r\n",
        "##### Third step is the calculation of the unput by calling the input_gate and adding it up with the result of the candidates call function\r\n",
        "##### Finally the output is calculated by applying a tanh activation function and the output of the outputgate"
      ]
    },
    {
      "cell_type": "code",
      "metadata": {
        "id": "ly6trI3v3MAY"
      },
      "source": [
        "class LSTMCell(tf.keras.Model):\r\n",
        "  def __init__(self, state_size):\r\n",
        "    super(LSTMCell, self).__init__()\r\n",
        "\r\n",
        "    # dense layers\r\n",
        "    self.inputgate = tf.keras.layers.Dense(units= state_size, activation='sigmoid')\r\n",
        "    self.forgetgate = tf.keras.layers.Dense(units= state_size, activation='sigmoid', bias_initializer = 'ones')\r\n",
        "    self.outputgate = tf.keras.layers.Dense(units= state_size, activation='sigmoid')\r\n",
        "    self.candidates = tf.keras.layers.Dense(units= state_size, activation='tanh')\r\n",
        "\r\n",
        "\r\n",
        "  def call(self, input,states):\r\n",
        "    (hidden_state, cell_state) = states\r\n",
        "    concat_input = tf.expand_dims(tf.concat((hidden_state, input), axis = 0), axis = 0)\r\n",
        "    cell_state = cell_state * self.forgetgate(concat_input)\r\n",
        "    update = self.inputgate(concat_input) * self.candidates(concat_input)\r\n",
        "    cell_state = cell_state + update\r\n",
        "    output = tf.keras.activations.tanh(cell_state) * self.outputgate(concat_input)\r\n",
        "\r\n",
        "    return tf.squeeze(output), tf.squeeze(cell_state)"
      ],
      "execution_count": 16,
      "outputs": []
    },
    {
      "cell_type": "markdown",
      "metadata": {
        "id": "FgsQP7xTEoA1"
      },
      "source": [
        "##### The LSTM-Class creates an instance of the lstm-cell in its __init__-function and uses it during its call function. It then returns the output of the LSTM-Layer"
      ]
    },
    {
      "cell_type": "code",
      "metadata": {
        "id": "xhBgBphw9mHm"
      },
      "source": [
        "class LSTM(tf.keras.Model):\r\n",
        "  def __init__(self, state_size):\r\n",
        "    super(LSTM, self).__init__()\r\n",
        "    '''\r\n",
        "    self.cells = []\r\n",
        "    for t in range(timestep):    \r\n",
        "      self.cells.append(LSTMCell())\r\n",
        "      '''\r\n",
        "    self.state_size = state_size\r\n",
        "\r\n",
        "    self.lstm_cell = LSTMCell(state_size)\r\n",
        "\r\n",
        "  def call(self, input):\r\n",
        "    outputs = []\r\n",
        "    (hidden_state, cell_state) = (tf.zeros([self.state_size]), tf.zeros([self.state_size]))\r\n",
        "    for sequence in input:\r\n",
        "      for input_t in sequence:\r\n",
        "        hidden_state, cell_state = self.lstm_cell(input_t,(hidden_state, cell_state))\r\n",
        "      outputs.append(hidden_state)\r\n",
        "    \r\n",
        "    output = tf.reshape(tf.convert_to_tensor(outputs), shape = [-1, self.state_size])\r\n",
        "    return output\r\n"
      ],
      "execution_count": 17,
      "outputs": []
    },
    {
      "cell_type": "markdown",
      "metadata": {
        "id": "MdZHTHCWGjup"
      },
      "source": [
        "#### The Model-Class then uses the LSTM-Class to make predictions using its call-function"
      ]
    },
    {
      "cell_type": "code",
      "metadata": {
        "id": "F7q9kwFM9l7H"
      },
      "source": [
        "class Model(tf.keras.Model):\r\n",
        "    \r\n",
        "  def __init__(self, state_size, n_timesteps):\r\n",
        "    super(Model, self).__init__()\r\n",
        "\r\n",
        "    self.input_layer = tf.keras.layers.Reshape((n_timesteps, 30))\r\n",
        "    self.lstm = LSTM(state_size)\r\n",
        "    self.output_layer = tf.keras.layers.Dense(units = 3, activation = tf.keras.activations.softmax)\r\n",
        "\r\n",
        "\r\n",
        "  def call(self, input):\r\n",
        "    x = self.input_layer(input)\r\n",
        "    x = self.lstm(tf.squeeze(x))\r\n",
        "    x = self.output_layer(x)\r\n",
        "   \r\n",
        "    return x"
      ],
      "execution_count": 18,
      "outputs": []
    },
    {
      "cell_type": "markdown",
      "metadata": {
        "id": "dwYWmpjGeyzu"
      },
      "source": [
        "#Training"
      ]
    },
    {
      "cell_type": "markdown",
      "metadata": {
        "id": "BggsJSVgNWSW"
      },
      "source": [
        "###### Calculates the remaining time until training is finished"
      ]
    },
    {
      "cell_type": "code",
      "metadata": {
        "id": "hBgsXa2WZq8U"
      },
      "source": [
        "def calculateTime(epochs, time_passed, number_of_epochs):\r\n",
        "    epochs = epochs + 1\r\n",
        "    time_per_epoch = time_passed / epochs\r\n",
        "    number = number_of_epochs - epochs\r\n",
        "    time_sec = number * time_per_epoch\r\n",
        "    time_remain = str(datetime.timedelta(seconds=time_sec))\r\n",
        "    return time_remain"
      ],
      "execution_count": 19,
      "outputs": []
    },
    {
      "cell_type": "markdown",
      "metadata": {
        "id": "3AnJyb1HYX41"
      },
      "source": [
        "##### Visualizes the loss and the accuracy as a graph"
      ]
    },
    {
      "cell_type": "code",
      "metadata": {
        "id": "ClT5bGOoR2wV"
      },
      "source": [
        "# Visualize loss for training and test data. \r\n",
        "# Plot training and test loss.\r\n",
        "def visualize():\r\n",
        "  plt.figure()\r\n",
        "  line1, = plt.plot(train_losses)\r\n",
        "  line2, = plt.plot(test_losses)\r\n",
        "  plt.xlabel(\"Training steps\")\r\n",
        "  plt.ylabel(\"Loss\")\r\n",
        "  plt.legend((line1,line2),(\"training\",\"test\"))\r\n",
        "  plt.show()\r\n",
        "  print(\"Current train loss: \", train_losses[-1])\r\n",
        "  if len(train_losses) >= 2:\r\n",
        "    print(\"Change of train loss to previous epoch: \", train_losses[-1] - train_losses[-2])\r\n",
        "  print(\"Current test loss: \", test_losses[-1])\r\n",
        "  if len(test_losses) >= 2:\r\n",
        "    print(\"Change of test loss to previous epoch: \", test_losses[-1] - test_losses[-2])\r\n",
        "  \r\n",
        "  # Plot test accuracy\r\n",
        "  plt.figure()\r\n",
        "  line1, = plt.plot(test_accuracies)\r\n",
        "  plt.xlabel(\"Training steps\")\r\n",
        "  plt.ylabel(\"Accuracy\")\r\n",
        "  plt.show()\r\n",
        "  print(\"Current test accuracy: \", test_accuracies[-1])\r\n",
        "  if len(test_accuracies) >= 2:\r\n",
        "    print(\"Change of test_accuracy to previous epoch: \", test_accuracies[-1] - test_accuracies[-2])"
      ],
      "execution_count": 20,
      "outputs": []
    },
    {
      "cell_type": "code",
      "metadata": {
        "id": "_A2ZGQsOLcPf"
      },
      "source": [
        "def train_step(model, input, label, loss_fn , optimizer):\r\n",
        "  with tf.GradientTape() as tape:\r\n",
        "    prediction = model(input)\r\n",
        "    loss = loss_fn(label, prediction)\r\n",
        "    gradients = tape.gradient(loss, model.trainable_variables)\r\n",
        "  optimizer.apply_gradients(zip(gradients, model.trainable_variables))\r\n",
        "  return loss\r\n",
        "\r\n",
        "\r\n",
        "def test(model, test_data, loss_function):\r\n",
        "  # test over complete test data\r\n",
        "\r\n",
        "  test_accuracy_aggregator = []\r\n",
        "  test_loss_aggregator = []\r\n",
        "\r\n",
        "  for (input, target) in test_data:\r\n",
        "    prediction = model(input)\r\n",
        "    sample_test_loss = loss_function(target, prediction)\r\n",
        "    sample_test_accuracy =  np.argmax(target, axis=1) == np.argmax(prediction, axis=1)\r\n",
        "    sample_test_accuracy = np.mean(sample_test_accuracy)\r\n",
        "    test_loss_aggregator.append(sample_test_loss.numpy())\r\n",
        "    test_accuracy_aggregator.append(np.mean(sample_test_accuracy))\r\n",
        "\r\n",
        "  test_loss = np.mean(test_loss_aggregator)\r\n",
        "  test_accuracy = np.mean(test_accuracy_aggregator)\r\n",
        "\r\n",
        "  return test_loss, test_accuracy"
      ],
      "execution_count": 21,
      "outputs": []
    },
    {
      "cell_type": "code",
      "metadata": {
        "colab": {
          "base_uri": "https://localhost:8080/",
          "height": 1000
        },
        "id": "USUSDUKWNFy0",
        "outputId": "0600558e-933f-415f-c2fc-32d251e1c6b2"
      },
      "source": [
        "tf.keras.backend.clear_session()\r\n",
        "\r\n",
        "running_average_factor = 0.95\r\n",
        "state_size = 10\r\n",
        "timesteps = 23\r\n",
        "model = Model(state_size, timesteps)\r\n",
        "#train_dataset = create_dataset(2048, timesteps)\r\n",
        "#test_dataset = create_dataset(320, timesteps)\r\n",
        "\r\n",
        "num_epochs = 20\r\n",
        "learning_rate = 0.001\r\n",
        "loss_fn = tf.keras.losses.CategoricalCrossentropy()\r\n",
        "optimizer = tf.keras.optimizers.Adam(learning_rate)\r\n",
        "\r\n",
        "train_losses = []\r\n",
        "test_losses = []\r\n",
        "test_accuracies = []\r\n",
        "\r\n",
        "#testing once before we begin\r\n",
        "\r\n",
        "test_loss, test_accuracy = test(model, test_dataset, loss_fn)\r\n",
        "test_losses.append(test_loss)\r\n",
        "test_accuracies.append(test_accuracy)\r\n",
        "\r\n",
        "#check how model performs on train data once before we begin\r\n",
        "train_loss, _ = test(model, train_dataset, loss_fn)\r\n",
        "train_losses.append(train_loss)\r\n",
        "\r\n",
        "start = time.time()\r\n",
        "\r\n",
        "# We train for num_epochs epochs.\r\n",
        "for epoch in range(num_epochs):\r\n",
        "    print('Epoch: __ ' + str(epoch))\r\n",
        "\r\n",
        "    #training (and checking in with training)\r\n",
        "    running_average = 0\r\n",
        "    for (input,target) in train_dataset:\r\n",
        "        train_loss = train_step(model, input, target, loss_fn, optimizer)\r\n",
        "        running_average = running_average_factor * running_average  + (1 - running_average_factor) * train_loss\r\n",
        "    train_losses.append(running_average)\r\n",
        "\r\n",
        "    #testing\r\n",
        "    test_loss, test_accuracy = test(model, test_dataset, loss_fn)\r\n",
        "    test_losses.append(test_loss)\r\n",
        "    test_accuracies.append(test_accuracy)\r\n",
        "\r\n",
        "    clear_output(wait = True)\r\n",
        "    print(\"Time until training is finished: \", calculateTime(epoch, time.time()-start, num_epochs))\r\n",
        "    print(\"Visualization of Training/Test loss:\")\r\n",
        "    visualize()"
      ],
      "execution_count": 22,
      "outputs": [
        {
          "output_type": "stream",
          "text": [
            "Time until training is finished:  0:14:21.303877\n",
            "Visualization of Training/Test loss:\n"
          ],
          "name": "stdout"
        },
        {
          "output_type": "display_data",
          "data": {
            "image/png": "[encoded data removed]",
            "text/plain": [
              "<Figure size 432x288 with 1 Axes>"
            ]
          },
          "metadata": {
            "tags": [],
            "needs_background": "light"
          }
        },
        {
          "output_type": "stream",
          "text": [
            "Current train loss:  tf.Tensor(0.64153516, shape=(), dtype=float32)\n",
            "Change of train loss to previous epoch:  tf.Tensor(-0.0009799004, shape=(), dtype=float32)\n",
            "Current test loss:  0.6985616\n",
            "Change of test loss to previous epoch:  0.00023311377\n"
          ],
          "name": "stdout"
        },
        {
          "output_type": "display_data",
          "data": {
            "image/png": "[encoded data removed]",
            "text/plain": [
              "<Figure size 432x288 with 1 Axes>"
            ]
          },
          "metadata": {
            "tags": [],
            "needs_background": "light"
          }
        },
        {
          "output_type": "stream",
          "text": [
            "Current test accuracy:  0.54375\n",
            "Change of test_accuracy to previous epoch:  -0.0031250000000000444\n",
            "Epoch: __ 14\n"
          ],
          "name": "stdout"
        },
        {
          "output_type": "error",
          "ename": "KeyboardInterrupt",
          "evalue": "ignored",
          "traceback": [
            "\u001b[0;31m---------------------------------------------------------------------------\u001b[0m",
            "\u001b[0;31mKeyboardInterrupt\u001b[0m                         Traceback (most recent call last)",
            "\u001b[0;32m<ipython-input-22-aae0461f4995>\u001b[0m in \u001b[0;36m<module>\u001b[0;34m()\u001b[0m\n\u001b[1;32m     36\u001b[0m     \u001b[0mrunning_average\u001b[0m \u001b[0;34m=\u001b[0m \u001b[0;36m0\u001b[0m\u001b[0;34m\u001b[0m\u001b[0;34m\u001b[0m\u001b[0m\n\u001b[1;32m     37\u001b[0m     \u001b[0;32mfor\u001b[0m \u001b[0;34m(\u001b[0m\u001b[0minput\u001b[0m\u001b[0;34m,\u001b[0m\u001b[0mtarget\u001b[0m\u001b[0;34m)\u001b[0m \u001b[0;32min\u001b[0m \u001b[0mtrain_dataset\u001b[0m\u001b[0;34m:\u001b[0m\u001b[0;34m\u001b[0m\u001b[0;34m\u001b[0m\u001b[0m\n\u001b[0;32m---> 38\u001b[0;31m         \u001b[0mtrain_loss\u001b[0m \u001b[0;34m=\u001b[0m \u001b[0mtrain_step\u001b[0m\u001b[0;34m(\u001b[0m\u001b[0mmodel\u001b[0m\u001b[0;34m,\u001b[0m \u001b[0minput\u001b[0m\u001b[0;34m,\u001b[0m \u001b[0mtarget\u001b[0m\u001b[0;34m,\u001b[0m \u001b[0mloss_fn\u001b[0m\u001b[0;34m,\u001b[0m \u001b[0moptimizer\u001b[0m\u001b[0;34m)\u001b[0m\u001b[0;34m\u001b[0m\u001b[0;34m\u001b[0m\u001b[0m\n\u001b[0m\u001b[1;32m     39\u001b[0m         \u001b[0mrunning_average\u001b[0m \u001b[0;34m=\u001b[0m \u001b[0mrunning_average_factor\u001b[0m \u001b[0;34m*\u001b[0m \u001b[0mrunning_average\u001b[0m  \u001b[0;34m+\u001b[0m \u001b[0;34m(\u001b[0m\u001b[0;36m1\u001b[0m \u001b[0;34m-\u001b[0m \u001b[0mrunning_average_factor\u001b[0m\u001b[0;34m)\u001b[0m \u001b[0;34m*\u001b[0m \u001b[0mtrain_loss\u001b[0m\u001b[0;34m\u001b[0m\u001b[0;34m\u001b[0m\u001b[0m\n\u001b[1;32m     40\u001b[0m     \u001b[0mtrain_losses\u001b[0m\u001b[0;34m.\u001b[0m\u001b[0mappend\u001b[0m\u001b[0;34m(\u001b[0m\u001b[0mrunning_average\u001b[0m\u001b[0;34m)\u001b[0m\u001b[0;34m\u001b[0m\u001b[0;34m\u001b[0m\u001b[0m\n",
            "\u001b[0;32m<ipython-input-21-447a1e6abe9f>\u001b[0m in \u001b[0;36mtrain_step\u001b[0;34m(model, input, label, loss_fn, optimizer)\u001b[0m\n\u001b[1;32m      1\u001b[0m \u001b[0;32mdef\u001b[0m \u001b[0mtrain_step\u001b[0m\u001b[0;34m(\u001b[0m\u001b[0mmodel\u001b[0m\u001b[0;34m,\u001b[0m \u001b[0minput\u001b[0m\u001b[0;34m,\u001b[0m \u001b[0mlabel\u001b[0m\u001b[0;34m,\u001b[0m \u001b[0mloss_fn\u001b[0m \u001b[0;34m,\u001b[0m \u001b[0moptimizer\u001b[0m\u001b[0;34m)\u001b[0m\u001b[0;34m:\u001b[0m\u001b[0;34m\u001b[0m\u001b[0;34m\u001b[0m\u001b[0m\n\u001b[1;32m      2\u001b[0m   \u001b[0;32mwith\u001b[0m \u001b[0mtf\u001b[0m\u001b[0;34m.\u001b[0m\u001b[0mGradientTape\u001b[0m\u001b[0;34m(\u001b[0m\u001b[0;34m)\u001b[0m \u001b[0;32mas\u001b[0m \u001b[0mtape\u001b[0m\u001b[0;34m:\u001b[0m\u001b[0;34m\u001b[0m\u001b[0;34m\u001b[0m\u001b[0m\n\u001b[0;32m----> 3\u001b[0;31m     \u001b[0mprediction\u001b[0m \u001b[0;34m=\u001b[0m \u001b[0mmodel\u001b[0m\u001b[0;34m(\u001b[0m\u001b[0minput\u001b[0m\u001b[0;34m)\u001b[0m\u001b[0;34m\u001b[0m\u001b[0;34m\u001b[0m\u001b[0m\n\u001b[0m\u001b[1;32m      4\u001b[0m     \u001b[0mloss\u001b[0m \u001b[0;34m=\u001b[0m \u001b[0mloss_fn\u001b[0m\u001b[0;34m(\u001b[0m\u001b[0mlabel\u001b[0m\u001b[0;34m,\u001b[0m \u001b[0mprediction\u001b[0m\u001b[0;34m)\u001b[0m\u001b[0;34m\u001b[0m\u001b[0;34m\u001b[0m\u001b[0m\n\u001b[1;32m      5\u001b[0m     \u001b[0mgradients\u001b[0m \u001b[0;34m=\u001b[0m \u001b[0mtape\u001b[0m\u001b[0;34m.\u001b[0m\u001b[0mgradient\u001b[0m\u001b[0;34m(\u001b[0m\u001b[0mloss\u001b[0m\u001b[0;34m,\u001b[0m \u001b[0mmodel\u001b[0m\u001b[0;34m.\u001b[0m\u001b[0mtrainable_variables\u001b[0m\u001b[0;34m)\u001b[0m\u001b[0;34m\u001b[0m\u001b[0;34m\u001b[0m\u001b[0m\n",
            "\u001b[0;32m/usr/local/lib/python3.6/dist-packages/tensorflow/python/keras/engine/base_layer.py\u001b[0m in \u001b[0;36m__call__\u001b[0;34m(self, *args, **kwargs)\u001b[0m\n\u001b[1;32m   1010\u001b[0m         with autocast_variable.enable_auto_cast_variables(\n\u001b[1;32m   1011\u001b[0m             self._compute_dtype_object):\n\u001b[0;32m-> 1012\u001b[0;31m           \u001b[0moutputs\u001b[0m \u001b[0;34m=\u001b[0m \u001b[0mcall_fn\u001b[0m\u001b[0;34m(\u001b[0m\u001b[0minputs\u001b[0m\u001b[0;34m,\u001b[0m \u001b[0;34m*\u001b[0m\u001b[0margs\u001b[0m\u001b[0;34m,\u001b[0m \u001b[0;34m**\u001b[0m\u001b[0mkwargs\u001b[0m\u001b[0;34m)\u001b[0m\u001b[0;34m\u001b[0m\u001b[0;34m\u001b[0m\u001b[0m\n\u001b[0m\u001b[1;32m   1013\u001b[0m \u001b[0;34m\u001b[0m\u001b[0m\n\u001b[1;32m   1014\u001b[0m         \u001b[0;32mif\u001b[0m \u001b[0mself\u001b[0m\u001b[0;34m.\u001b[0m\u001b[0m_activity_regularizer\u001b[0m\u001b[0;34m:\u001b[0m\u001b[0;34m\u001b[0m\u001b[0;34m\u001b[0m\u001b[0m\n",
            "\u001b[0;32m<ipython-input-18-d7e8809ebd9d>\u001b[0m in \u001b[0;36mcall\u001b[0;34m(self, input)\u001b[0m\n\u001b[1;32m     11\u001b[0m   \u001b[0;32mdef\u001b[0m \u001b[0mcall\u001b[0m\u001b[0;34m(\u001b[0m\u001b[0mself\u001b[0m\u001b[0;34m,\u001b[0m \u001b[0minput\u001b[0m\u001b[0;34m)\u001b[0m\u001b[0;34m:\u001b[0m\u001b[0;34m\u001b[0m\u001b[0;34m\u001b[0m\u001b[0m\n\u001b[1;32m     12\u001b[0m     \u001b[0mx\u001b[0m \u001b[0;34m=\u001b[0m \u001b[0mself\u001b[0m\u001b[0;34m.\u001b[0m\u001b[0minput_layer\u001b[0m\u001b[0;34m(\u001b[0m\u001b[0minput\u001b[0m\u001b[0;34m)\u001b[0m\u001b[0;34m\u001b[0m\u001b[0;34m\u001b[0m\u001b[0m\n\u001b[0;32m---> 13\u001b[0;31m     \u001b[0mx\u001b[0m \u001b[0;34m=\u001b[0m \u001b[0mself\u001b[0m\u001b[0;34m.\u001b[0m\u001b[0mlstm\u001b[0m\u001b[0;34m(\u001b[0m\u001b[0mtf\u001b[0m\u001b[0;34m.\u001b[0m\u001b[0msqueeze\u001b[0m\u001b[0;34m(\u001b[0m\u001b[0mx\u001b[0m\u001b[0;34m)\u001b[0m\u001b[0;34m)\u001b[0m\u001b[0;34m\u001b[0m\u001b[0;34m\u001b[0m\u001b[0m\n\u001b[0m\u001b[1;32m     14\u001b[0m     \u001b[0mx\u001b[0m \u001b[0;34m=\u001b[0m \u001b[0mself\u001b[0m\u001b[0;34m.\u001b[0m\u001b[0moutput_layer\u001b[0m\u001b[0;34m(\u001b[0m\u001b[0mx\u001b[0m\u001b[0;34m)\u001b[0m\u001b[0;34m\u001b[0m\u001b[0;34m\u001b[0m\u001b[0m\n\u001b[1;32m     15\u001b[0m \u001b[0;34m\u001b[0m\u001b[0m\n",
            "\u001b[0;32m/usr/local/lib/python3.6/dist-packages/tensorflow/python/keras/engine/base_layer.py\u001b[0m in \u001b[0;36m__call__\u001b[0;34m(self, *args, **kwargs)\u001b[0m\n\u001b[1;32m   1010\u001b[0m         with autocast_variable.enable_auto_cast_variables(\n\u001b[1;32m   1011\u001b[0m             self._compute_dtype_object):\n\u001b[0;32m-> 1012\u001b[0;31m           \u001b[0moutputs\u001b[0m \u001b[0;34m=\u001b[0m \u001b[0mcall_fn\u001b[0m\u001b[0;34m(\u001b[0m\u001b[0minputs\u001b[0m\u001b[0;34m,\u001b[0m \u001b[0;34m*\u001b[0m\u001b[0margs\u001b[0m\u001b[0;34m,\u001b[0m \u001b[0;34m**\u001b[0m\u001b[0mkwargs\u001b[0m\u001b[0;34m)\u001b[0m\u001b[0;34m\u001b[0m\u001b[0;34m\u001b[0m\u001b[0m\n\u001b[0m\u001b[1;32m   1013\u001b[0m \u001b[0;34m\u001b[0m\u001b[0m\n\u001b[1;32m   1014\u001b[0m         \u001b[0;32mif\u001b[0m \u001b[0mself\u001b[0m\u001b[0;34m.\u001b[0m\u001b[0m_activity_regularizer\u001b[0m\u001b[0;34m:\u001b[0m\u001b[0;34m\u001b[0m\u001b[0;34m\u001b[0m\u001b[0m\n",
            "\u001b[0;32m<ipython-input-17-9011beb0912f>\u001b[0m in \u001b[0;36mcall\u001b[0;34m(self, input)\u001b[0m\n\u001b[1;32m     16\u001b[0m     \u001b[0;32mfor\u001b[0m \u001b[0msequence\u001b[0m \u001b[0;32min\u001b[0m \u001b[0minput\u001b[0m\u001b[0;34m:\u001b[0m\u001b[0;34m\u001b[0m\u001b[0;34m\u001b[0m\u001b[0m\n\u001b[1;32m     17\u001b[0m       \u001b[0;32mfor\u001b[0m \u001b[0minput_t\u001b[0m \u001b[0;32min\u001b[0m \u001b[0msequence\u001b[0m\u001b[0;34m:\u001b[0m\u001b[0;34m\u001b[0m\u001b[0;34m\u001b[0m\u001b[0m\n\u001b[0;32m---> 18\u001b[0;31m         \u001b[0mhidden_state\u001b[0m\u001b[0;34m,\u001b[0m \u001b[0mcell_state\u001b[0m \u001b[0;34m=\u001b[0m \u001b[0mself\u001b[0m\u001b[0;34m.\u001b[0m\u001b[0mlstm_cell\u001b[0m\u001b[0;34m(\u001b[0m\u001b[0minput_t\u001b[0m\u001b[0;34m,\u001b[0m\u001b[0;34m(\u001b[0m\u001b[0mhidden_state\u001b[0m\u001b[0;34m,\u001b[0m \u001b[0mcell_state\u001b[0m\u001b[0;34m)\u001b[0m\u001b[0;34m)\u001b[0m\u001b[0;34m\u001b[0m\u001b[0;34m\u001b[0m\u001b[0m\n\u001b[0m\u001b[1;32m     19\u001b[0m       \u001b[0moutputs\u001b[0m\u001b[0;34m.\u001b[0m\u001b[0mappend\u001b[0m\u001b[0;34m(\u001b[0m\u001b[0mhidden_state\u001b[0m\u001b[0;34m)\u001b[0m\u001b[0;34m\u001b[0m\u001b[0;34m\u001b[0m\u001b[0m\n\u001b[1;32m     20\u001b[0m \u001b[0;34m\u001b[0m\u001b[0m\n",
            "\u001b[0;32m/usr/local/lib/python3.6/dist-packages/tensorflow/python/keras/engine/base_layer.py\u001b[0m in \u001b[0;36m__call__\u001b[0;34m(self, *args, **kwargs)\u001b[0m\n\u001b[1;32m   1010\u001b[0m         with autocast_variable.enable_auto_cast_variables(\n\u001b[1;32m   1011\u001b[0m             self._compute_dtype_object):\n\u001b[0;32m-> 1012\u001b[0;31m           \u001b[0moutputs\u001b[0m \u001b[0;34m=\u001b[0m \u001b[0mcall_fn\u001b[0m\u001b[0;34m(\u001b[0m\u001b[0minputs\u001b[0m\u001b[0;34m,\u001b[0m \u001b[0;34m*\u001b[0m\u001b[0margs\u001b[0m\u001b[0;34m,\u001b[0m \u001b[0;34m**\u001b[0m\u001b[0mkwargs\u001b[0m\u001b[0;34m)\u001b[0m\u001b[0;34m\u001b[0m\u001b[0;34m\u001b[0m\u001b[0m\n\u001b[0m\u001b[1;32m   1013\u001b[0m \u001b[0;34m\u001b[0m\u001b[0m\n\u001b[1;32m   1014\u001b[0m         \u001b[0;32mif\u001b[0m \u001b[0mself\u001b[0m\u001b[0;34m.\u001b[0m\u001b[0m_activity_regularizer\u001b[0m\u001b[0;34m:\u001b[0m\u001b[0;34m\u001b[0m\u001b[0;34m\u001b[0m\u001b[0m\n",
            "\u001b[0;32m<ipython-input-16-4a23bed62567>\u001b[0m in \u001b[0;36mcall\u001b[0;34m(self, input, states)\u001b[0m\n\u001b[1;32m     13\u001b[0m     \u001b[0;34m(\u001b[0m\u001b[0mhidden_state\u001b[0m\u001b[0;34m,\u001b[0m \u001b[0mcell_state\u001b[0m\u001b[0;34m)\u001b[0m \u001b[0;34m=\u001b[0m \u001b[0mstates\u001b[0m\u001b[0;34m\u001b[0m\u001b[0;34m\u001b[0m\u001b[0m\n\u001b[1;32m     14\u001b[0m     \u001b[0mconcat_input\u001b[0m \u001b[0;34m=\u001b[0m \u001b[0mtf\u001b[0m\u001b[0;34m.\u001b[0m\u001b[0mexpand_dims\u001b[0m\u001b[0;34m(\u001b[0m\u001b[0mtf\u001b[0m\u001b[0;34m.\u001b[0m\u001b[0mconcat\u001b[0m\u001b[0;34m(\u001b[0m\u001b[0;34m(\u001b[0m\u001b[0mhidden_state\u001b[0m\u001b[0;34m,\u001b[0m \u001b[0minput\u001b[0m\u001b[0;34m)\u001b[0m\u001b[0;34m,\u001b[0m \u001b[0maxis\u001b[0m \u001b[0;34m=\u001b[0m \u001b[0;36m0\u001b[0m\u001b[0;34m)\u001b[0m\u001b[0;34m,\u001b[0m \u001b[0maxis\u001b[0m \u001b[0;34m=\u001b[0m \u001b[0;36m0\u001b[0m\u001b[0;34m)\u001b[0m\u001b[0;34m\u001b[0m\u001b[0;34m\u001b[0m\u001b[0m\n\u001b[0;32m---> 15\u001b[0;31m     \u001b[0mcell_state\u001b[0m \u001b[0;34m=\u001b[0m \u001b[0mcell_state\u001b[0m \u001b[0;34m*\u001b[0m \u001b[0mself\u001b[0m\u001b[0;34m.\u001b[0m\u001b[0mforgetgate\u001b[0m\u001b[0;34m(\u001b[0m\u001b[0mconcat_input\u001b[0m\u001b[0;34m)\u001b[0m\u001b[0;34m\u001b[0m\u001b[0;34m\u001b[0m\u001b[0m\n\u001b[0m\u001b[1;32m     16\u001b[0m     \u001b[0mupdate\u001b[0m \u001b[0;34m=\u001b[0m \u001b[0mself\u001b[0m\u001b[0;34m.\u001b[0m\u001b[0minputgate\u001b[0m\u001b[0;34m(\u001b[0m\u001b[0mconcat_input\u001b[0m\u001b[0;34m)\u001b[0m \u001b[0;34m*\u001b[0m \u001b[0mself\u001b[0m\u001b[0;34m.\u001b[0m\u001b[0mcandidates\u001b[0m\u001b[0;34m(\u001b[0m\u001b[0mconcat_input\u001b[0m\u001b[0;34m)\u001b[0m\u001b[0;34m\u001b[0m\u001b[0;34m\u001b[0m\u001b[0m\n\u001b[1;32m     17\u001b[0m     \u001b[0mcell_state\u001b[0m \u001b[0;34m=\u001b[0m \u001b[0mcell_state\u001b[0m \u001b[0;34m+\u001b[0m \u001b[0mupdate\u001b[0m\u001b[0;34m\u001b[0m\u001b[0;34m\u001b[0m\u001b[0m\n",
            "\u001b[0;32m/usr/local/lib/python3.6/dist-packages/tensorflow/python/keras/engine/base_layer.py\u001b[0m in \u001b[0;36m__call__\u001b[0;34m(self, *args, **kwargs)\u001b[0m\n\u001b[1;32m   1010\u001b[0m         with autocast_variable.enable_auto_cast_variables(\n\u001b[1;32m   1011\u001b[0m             self._compute_dtype_object):\n\u001b[0;32m-> 1012\u001b[0;31m           \u001b[0moutputs\u001b[0m \u001b[0;34m=\u001b[0m \u001b[0mcall_fn\u001b[0m\u001b[0;34m(\u001b[0m\u001b[0minputs\u001b[0m\u001b[0;34m,\u001b[0m \u001b[0;34m*\u001b[0m\u001b[0margs\u001b[0m\u001b[0;34m,\u001b[0m \u001b[0;34m**\u001b[0m\u001b[0mkwargs\u001b[0m\u001b[0;34m)\u001b[0m\u001b[0;34m\u001b[0m\u001b[0;34m\u001b[0m\u001b[0m\n\u001b[0m\u001b[1;32m   1013\u001b[0m \u001b[0;34m\u001b[0m\u001b[0m\n\u001b[1;32m   1014\u001b[0m         \u001b[0;32mif\u001b[0m \u001b[0mself\u001b[0m\u001b[0;34m.\u001b[0m\u001b[0m_activity_regularizer\u001b[0m\u001b[0;34m:\u001b[0m\u001b[0;34m\u001b[0m\u001b[0;34m\u001b[0m\u001b[0m\n",
            "\u001b[0;32m/usr/local/lib/python3.6/dist-packages/tensorflow/python/keras/layers/core.py\u001b[0m in \u001b[0;36mcall\u001b[0;34m(self, inputs)\u001b[0m\n\u001b[1;32m   1210\u001b[0m         \u001b[0mself\u001b[0m\u001b[0;34m.\u001b[0m\u001b[0mbias\u001b[0m\u001b[0;34m,\u001b[0m\u001b[0;34m\u001b[0m\u001b[0;34m\u001b[0m\u001b[0m\n\u001b[1;32m   1211\u001b[0m         \u001b[0mself\u001b[0m\u001b[0;34m.\u001b[0m\u001b[0mactivation\u001b[0m\u001b[0;34m,\u001b[0m\u001b[0;34m\u001b[0m\u001b[0;34m\u001b[0m\u001b[0m\n\u001b[0;32m-> 1212\u001b[0;31m         dtype=self._compute_dtype_object)\n\u001b[0m\u001b[1;32m   1213\u001b[0m \u001b[0;34m\u001b[0m\u001b[0m\n\u001b[1;32m   1214\u001b[0m   \u001b[0;32mdef\u001b[0m \u001b[0mcompute_output_shape\u001b[0m\u001b[0;34m(\u001b[0m\u001b[0mself\u001b[0m\u001b[0;34m,\u001b[0m \u001b[0minput_shape\u001b[0m\u001b[0;34m)\u001b[0m\u001b[0;34m:\u001b[0m\u001b[0;34m\u001b[0m\u001b[0;34m\u001b[0m\u001b[0m\n",
            "\u001b[0;32m/usr/local/lib/python3.6/dist-packages/tensorflow/python/keras/layers/ops/core.py\u001b[0m in \u001b[0;36mdense\u001b[0;34m(inputs, kernel, bias, activation, dtype)\u001b[0m\n\u001b[1;32m     62\u001b[0m \u001b[0;34m\u001b[0m\u001b[0m\n\u001b[1;32m     63\u001b[0m   \u001b[0;32mif\u001b[0m \u001b[0mbias\u001b[0m \u001b[0;32mis\u001b[0m \u001b[0;32mnot\u001b[0m \u001b[0;32mNone\u001b[0m\u001b[0;34m:\u001b[0m\u001b[0;34m\u001b[0m\u001b[0;34m\u001b[0m\u001b[0m\n\u001b[0;32m---> 64\u001b[0;31m     \u001b[0moutputs\u001b[0m \u001b[0;34m=\u001b[0m \u001b[0mnn_ops\u001b[0m\u001b[0;34m.\u001b[0m\u001b[0mbias_add\u001b[0m\u001b[0;34m(\u001b[0m\u001b[0moutputs\u001b[0m\u001b[0;34m,\u001b[0m \u001b[0mbias\u001b[0m\u001b[0;34m)\u001b[0m\u001b[0;34m\u001b[0m\u001b[0;34m\u001b[0m\u001b[0m\n\u001b[0m\u001b[1;32m     65\u001b[0m \u001b[0;34m\u001b[0m\u001b[0m\n\u001b[1;32m     66\u001b[0m   \u001b[0;32mif\u001b[0m \u001b[0mactivation\u001b[0m \u001b[0;32mis\u001b[0m \u001b[0;32mnot\u001b[0m \u001b[0;32mNone\u001b[0m\u001b[0;34m:\u001b[0m\u001b[0;34m\u001b[0m\u001b[0;34m\u001b[0m\u001b[0m\n",
            "\u001b[0;32m/usr/local/lib/python3.6/dist-packages/tensorflow/python/util/dispatch.py\u001b[0m in \u001b[0;36mwrapper\u001b[0;34m(*args, **kwargs)\u001b[0m\n\u001b[1;32m    199\u001b[0m     \u001b[0;34m\"\"\"Call target, and fall back on dispatchers if there is a TypeError.\"\"\"\u001b[0m\u001b[0;34m\u001b[0m\u001b[0;34m\u001b[0m\u001b[0m\n\u001b[1;32m    200\u001b[0m     \u001b[0;32mtry\u001b[0m\u001b[0;34m:\u001b[0m\u001b[0;34m\u001b[0m\u001b[0;34m\u001b[0m\u001b[0m\n\u001b[0;32m--> 201\u001b[0;31m       \u001b[0;32mreturn\u001b[0m \u001b[0mtarget\u001b[0m\u001b[0;34m(\u001b[0m\u001b[0;34m*\u001b[0m\u001b[0margs\u001b[0m\u001b[0;34m,\u001b[0m \u001b[0;34m**\u001b[0m\u001b[0mkwargs\u001b[0m\u001b[0;34m)\u001b[0m\u001b[0;34m\u001b[0m\u001b[0;34m\u001b[0m\u001b[0m\n\u001b[0m\u001b[1;32m    202\u001b[0m     \u001b[0;32mexcept\u001b[0m \u001b[0;34m(\u001b[0m\u001b[0mTypeError\u001b[0m\u001b[0;34m,\u001b[0m \u001b[0mValueError\u001b[0m\u001b[0;34m)\u001b[0m\u001b[0;34m:\u001b[0m\u001b[0;34m\u001b[0m\u001b[0;34m\u001b[0m\u001b[0m\n\u001b[1;32m    203\u001b[0m       \u001b[0;31m# Note: convert_to_eager_tensor currently raises a ValueError, not a\u001b[0m\u001b[0;34m\u001b[0m\u001b[0;34m\u001b[0m\u001b[0;34m\u001b[0m\u001b[0m\n",
            "\u001b[0;32m/usr/local/lib/python3.6/dist-packages/tensorflow/python/ops/nn_ops.py\u001b[0m in \u001b[0;36mbias_add\u001b[0;34m(value, bias, data_format, name)\u001b[0m\n\u001b[1;32m   3377\u001b[0m     \u001b[0;32melse\u001b[0m\u001b[0;34m:\u001b[0m\u001b[0;34m\u001b[0m\u001b[0;34m\u001b[0m\u001b[0m\n\u001b[1;32m   3378\u001b[0m       return gen_nn_ops.bias_add(\n\u001b[0;32m-> 3379\u001b[0;31m           value, bias, data_format=data_format, name=name)\n\u001b[0m\u001b[1;32m   3380\u001b[0m \u001b[0;34m\u001b[0m\u001b[0m\n\u001b[1;32m   3381\u001b[0m \u001b[0;34m\u001b[0m\u001b[0m\n",
            "\u001b[0;31mKeyboardInterrupt\u001b[0m: "
          ]
        }
      ]
    }
  ]
}